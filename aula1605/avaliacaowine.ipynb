{
 "cells": [
  {
   "cell_type": "code",
   "execution_count": 12,
   "metadata": {},
   "outputs": [
    {
     "name": "stdout",
     "output_type": "stream",
     "text": [
      "Defaulting to user installation because normal site-packages is not writeable\n",
      "Requirement already satisfied: pandas in c:\\users\\24114290112\\appdata\\roaming\\python\\python313\\site-packages (2.2.3)\n",
      "Requirement already satisfied: numpy>=1.26.0 in c:\\program files\\python313\\lib\\site-packages (from pandas) (2.2.0)\n",
      "Requirement already satisfied: python-dateutil>=2.8.2 in c:\\users\\24114290112\\appdata\\roaming\\python\\python313\\site-packages (from pandas) (2.9.0.post0)\n",
      "Requirement already satisfied: pytz>=2020.1 in c:\\users\\24114290112\\appdata\\roaming\\python\\python313\\site-packages (from pandas) (2025.1)\n",
      "Requirement already satisfied: tzdata>=2022.7 in c:\\users\\24114290112\\appdata\\roaming\\python\\python313\\site-packages (from pandas) (2025.1)\n",
      "Requirement already satisfied: six>=1.5 in c:\\users\\24114290112\\appdata\\roaming\\python\\python313\\site-packages (from python-dateutil>=2.8.2->pandas) (1.17.0)\n",
      "Note: you may need to restart the kernel to use updated packages.\n"
     ]
    },
    {
     "name": "stderr",
     "output_type": "stream",
     "text": [
      "\n",
      "[notice] A new release of pip is available: 24.3.1 -> 25.1.1\n",
      "[notice] To update, run: python.exe -m pip install --upgrade pip\n"
     ]
    }
   ],
   "source": [
    "pip install pandas\n"
   ]
  },
  {
   "cell_type": "code",
   "execution_count": 14,
   "metadata": {},
   "outputs": [],
   "source": [
    "import pandas as pd"
   ]
  },
  {
   "cell_type": "code",
   "execution_count": 16,
   "metadata": {},
   "outputs": [
    {
     "data": {
      "text/html": [
       "<div>\n",
       "<style scoped>\n",
       "    .dataframe tbody tr th:only-of-type {\n",
       "        vertical-align: middle;\n",
       "    }\n",
       "\n",
       "    .dataframe tbody tr th {\n",
       "        vertical-align: top;\n",
       "    }\n",
       "\n",
       "    .dataframe thead th {\n",
       "        text-align: right;\n",
       "    }\n",
       "</style>\n",
       "<table border=\"1\" class=\"dataframe\">\n",
       "  <thead>\n",
       "    <tr style=\"text-align: right;\">\n",
       "      <th></th>\n",
       "      <th>id</th>\n",
       "      <th>alcohol</th>\n",
       "      <th>fixed_acidity</th>\n",
       "      <th>residual_sugar</th>\n",
       "      <th>quality</th>\n",
       "      <th>density</th>\n",
       "    </tr>\n",
       "  </thead>\n",
       "  <tbody>\n",
       "    <tr>\n",
       "      <th>0</th>\n",
       "      <td>0</td>\n",
       "      <td>13.6</td>\n",
       "      <td>9.3</td>\n",
       "      <td>6.4</td>\n",
       "      <td>high</td>\n",
       "      <td>1.0005</td>\n",
       "    </tr>\n",
       "    <tr>\n",
       "      <th>1</th>\n",
       "      <td>1</td>\n",
       "      <td>14.0</td>\n",
       "      <td>11.2</td>\n",
       "      <td>2.0</td>\n",
       "      <td>medium</td>\n",
       "      <td>0.9912</td>\n",
       "    </tr>\n",
       "    <tr>\n",
       "      <th>2</th>\n",
       "      <td>2</td>\n",
       "      <td>8.2</td>\n",
       "      <td>11.6</td>\n",
       "      <td>0.9</td>\n",
       "      <td>low</td>\n",
       "      <td>0.9935</td>\n",
       "    </tr>\n",
       "    <tr>\n",
       "      <th>3</th>\n",
       "      <td>3</td>\n",
       "      <td>12.7</td>\n",
       "      <td>12.9</td>\n",
       "      <td>6.6</td>\n",
       "      <td>low</td>\n",
       "      <td>1.0002</td>\n",
       "    </tr>\n",
       "    <tr>\n",
       "      <th>4</th>\n",
       "      <td>4</td>\n",
       "      <td>10.4</td>\n",
       "      <td>13.9</td>\n",
       "      <td>13.8</td>\n",
       "      <td>medium</td>\n",
       "      <td>0.9942</td>\n",
       "    </tr>\n",
       "  </tbody>\n",
       "</table>\n",
       "</div>"
      ],
      "text/plain": [
       "   id  alcohol  fixed_acidity  residual_sugar quality  density\n",
       "0   0     13.6            9.3             6.4    high   1.0005\n",
       "1   1     14.0           11.2             2.0  medium   0.9912\n",
       "2   2      8.2           11.6             0.9     low   0.9935\n",
       "3   3     12.7           12.9             6.6     low   1.0002\n",
       "4   4     10.4           13.9            13.8  medium   0.9942"
      ]
     },
     "execution_count": 16,
     "metadata": {},
     "output_type": "execute_result"
    }
   ],
   "source": [
    "df = pd.read_csv(\"wine.csv\")\n",
    "df.head()"
   ]
  },
  {
   "cell_type": "code",
   "execution_count": 18,
   "metadata": {},
   "outputs": [
    {
     "name": "stdout",
     "output_type": "stream",
     "text": [
      "<class 'pandas.core.frame.DataFrame'>\n",
      "RangeIndex: 1000 entries, 0 to 999\n",
      "Data columns (total 6 columns):\n",
      " #   Column          Non-Null Count  Dtype  \n",
      "---  ------          --------------  -----  \n",
      " 0   id              1000 non-null   int64  \n",
      " 1   alcohol         990 non-null    float64\n",
      " 2   fixed_acidity   1000 non-null   float64\n",
      " 3   residual_sugar  997 non-null    float64\n",
      " 4   quality         1000 non-null   object \n",
      " 5   density         1000 non-null   float64\n",
      "dtypes: float64(4), int64(1), object(1)\n",
      "memory usage: 47.0+ KB\n",
      "None\n",
      "                id     alcohol  fixed_acidity  residual_sugar      density\n",
      "count  1000.000000  990.000000    1000.000000      997.000000  1000.000000\n",
      "mean    499.500000   11.038081      10.174300        7.685757     0.997505\n",
      "std     288.819436    1.763647       3.452693        4.213067     0.004300\n",
      "min       0.000000    8.000000       4.000000        0.500000     0.990000\n",
      "25%     249.750000    9.500000       7.100000        4.100000     0.993900\n",
      "50%     499.500000   11.000000      10.400000        7.500000     0.997400\n",
      "75%     749.250000   12.600000      13.125000       11.500000     1.001200\n",
      "max     999.000000   14.000000      16.000000       15.000000     1.005000\n",
      "id                 0\n",
      "alcohol           10\n",
      "fixed_acidity      0\n",
      "residual_sugar     3\n",
      "quality            0\n",
      "density            0\n",
      "dtype: int64\n"
     ]
    }
   ],
   "source": [
    "print(df.info())\n",
    "\n",
    "\n",
    "print(df.describe())\n",
    "\n",
    "print(df.isnull().sum())"
   ]
  },
  {
   "cell_type": "code",
   "execution_count": null,
   "metadata": {},
   "outputs": [],
   "source": []
  }
 ],
 "metadata": {
  "kernelspec": {
   "display_name": "Python 3",
   "language": "python",
   "name": "python3"
  },
  "language_info": {
   "codemirror_mode": {
    "name": "ipython",
    "version": 3
   },
   "file_extension": ".py",
   "mimetype": "text/x-python",
   "name": "python",
   "nbconvert_exporter": "python",
   "pygments_lexer": "ipython3",
   "version": "3.13.1"
  }
 },
 "nbformat": 4,
 "nbformat_minor": 2
}
